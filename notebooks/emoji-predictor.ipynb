{
 "cells": [
  {
   "cell_type": "markdown",
   "metadata": {},
   "source": [
    "# <center> Emoji Predictor - DL project, Dec. 2020"
   ]
  },
  {
   "cell_type": "code",
   "execution_count": 169,
   "metadata": {
    "ExecuteTime": {
     "end_time": "2020-12-16T23:26:15.791598Z",
     "start_time": "2020-12-16T23:26:15.784737Z"
    }
   },
   "outputs": [],
   "source": [
    "import emojis\n",
    "from unidecode import unidecode\n",
    "import string\n",
    "import re\n",
    "import ast\n",
    "import numpy as np\n",
    "import pandas as pd\n",
    "import torch\n",
    "from tqdm import tqdm\n",
    "from transformers import CamembertModel, CamembertTokenizer, CamembertForSequenceClassification\n",
    "import tensorflow as tf\n",
    "from tensorflow import keras\n",
    "from tensorflow.keras import layers\n",
    "import matplotlib.pyplot as plt"
   ]
  },
  {
   "cell_type": "markdown",
   "metadata": {},
   "source": [
    "## Data acquisition"
   ]
  },
  {
   "cell_type": "markdown",
   "metadata": {},
   "source": [
    "Thanks to to the Twitter API, we downloaded:\n",
    "* ~4.5M raw tweets\n",
    "* in French\n",
    "* posted between September and December 2019\n",
    "* containing emojis."
   ]
  },
  {
   "cell_type": "code",
   "execution_count": 2,
   "metadata": {
    "ExecuteTime": {
     "end_time": "2020-12-16T19:51:04.362830Z",
     "start_time": "2020-12-16T19:50:59.283919Z"
    }
   },
   "outputs": [
    {
     "name": "stdout",
     "output_type": "stream",
     "text": [
      "We have 4529208 tweets. See examples below:\n",
      "\n",
      "@chlechevalier @agnesbuzyn @googlenews macron n a pas honte de faire la fête 🥳 , brizitte se dandine habillée par un grand couturier , et pendant ce temps - là , le peuple se meurt 😡 😡 😡 😡\n",
      "\n",
      "@yoongichana la petite était blonde 5 ans jcp pk elle est morte mais j ’ habite au 3e étage et j ’ entendais qlq ’ 1 toqué à la fenêtre de ma chambre alors moi j ’ ouvre comme une conne et la son esprit était dans 1 ballon 🎈 le ballon explose tt est devenu noir en 1sec j ’ ai hurlé ma mère / sœur aussi\n",
      "\n",
      "et vous ? 🥰 bonne année les amis ! 💃 twitterlink\n",
      "\n"
     ]
    }
   ],
   "source": [
    "with open('/Users/Thomas/Downloads/emoji-predictor/tweets_fr.txt') as tweets:\n",
    "    line1 = tweets.readline()\n",
    "    line2 = tweets.readline()\n",
    "    line3 = tweets.readline()\n",
    "    counter = 3\n",
    "    for x in tweets:\n",
    "        counter += 1\n",
    "    print(f'We have {counter} tweets. See examples below:\\n')\n",
    "    print(line1)\n",
    "    print(line2)\n",
    "    print(line3)"
   ]
  },
  {
   "cell_type": "markdown",
   "metadata": {},
   "source": [
    "## Pre-processing"
   ]
  },
  {
   "cell_type": "markdown",
   "metadata": {},
   "source": [
    "We went through several preprocessing steps to clean the tweets, before we were able to feed them to CamemBERT for embeddings."
   ]
  },
  {
   "cell_type": "markdown",
   "metadata": {},
   "source": [
    "**1) Exclude spam / bots**\n",
    "\n",
    "The first preprocessing step was to **exclude spamming and bots**, which often use multiple emojis without real meaning / relationship to the actual text. For that, we **deleted the tweets containing more than 5 emojis**, and we kept **only 1 tweet per single user id** (which avoids bots posting multiple spam tweets)."
   ]
  },
  {
   "cell_type": "markdown",
   "metadata": {},
   "source": [
    "**2) Extract emojis to label tweets**\n",
    "\n",
    "We **extracted the emojis** with regular expressions and the `emojis` package, in order to use them to label each tweet. A tweet will therefore be able to have **multiple labels**. We encode labels in the next section."
   ]
  },
  {
   "cell_type": "markdown",
   "metadata": {},
   "source": [
    "**3) Clean text**\n",
    "\n",
    "Finally, to clean the raw text, we **removed tags (@ and # words)** and the 'twitterlink' word (corresponding to hyperlinks in the tweets), so that we have ready-to-tokenize text."
   ]
  },
  {
   "cell_type": "markdown",
   "metadata": {},
   "source": [
    "### Define and test the cleaning fuction"
   ]
  },
  {
   "cell_type": "code",
   "execution_count": 204,
   "metadata": {
    "ExecuteTime": {
     "end_time": "2020-12-16T23:42:42.130599Z",
     "start_time": "2020-12-16T23:42:42.114633Z"
    }
   },
   "outputs": [],
   "source": [
    "def clean(text):\n",
    "    \n",
    "    # lower text and remove accents\n",
    "    text = unidecode(text.lower())\n",
    "\n",
    "    # remove numbers, words starting with # or @, and 'twitterlink' words    \n",
    "    text = re.sub(r'#\\S+|@\\S+|\\d+|twitterlink', r'', text)\n",
    "    \n",
    "    # remove remaining punctuation\n",
    "    text = text.translate(str.maketrans('', '', string.punctuation))\n",
    "    \n",
    "    # return text with single whitespaces\n",
    "    return ' '.join(text.split())"
   ]
  },
  {
   "cell_type": "code",
   "execution_count": 5,
   "metadata": {
    "ExecuteTime": {
     "end_time": "2020-12-16T19:54:10.887261Z",
     "start_time": "2020-12-16T19:54:10.864085Z"
    }
   },
   "outputs": [
    {
     "data": {
      "text/plain": [
       "[('je me tape raleurs qui n arretent pas depuis mn', ['😓']),\n",
       " ('sera une annee encore plus fruisissante le voyage commence',\n",
       "  ['😜', '🛬', '😉']),\n",
       " ('j vais encore arreter encore fois et je reprendrais plus', ['👍'])]"
      ]
     },
     "execution_count": 5,
     "metadata": {},
     "output_type": "execute_result"
    }
   ],
   "source": [
    "# test on 3 tweets\n",
    "\n",
    "test = [\"@vita_despi je me tape 3 râleurs qui n '  arrêtent pas depuis 10mn !! #waiting 😓😓\",\n",
    "        \" 2020 sera une année encore plus fruisissante 😉 le voyage commence ! 🛬 #quiabuboira 😜\",\n",
    "        \"j ’ vais encore arrêter , encore 1 fois et je reprendrais plus 👍 twitterlink \"]\n",
    "\n",
    "output = []\n",
    "for x in test:\n",
    "    line = (clean(x), list(emojis.get(x)))\n",
    "    output.append(line)\n",
    "output"
   ]
  },
  {
   "cell_type": "markdown",
   "metadata": {},
   "source": [
    "### Extract the 100 most common emojis"
   ]
  },
  {
   "cell_type": "code",
   "execution_count": 6,
   "metadata": {
    "ExecuteTime": {
     "end_time": "2020-12-16T19:54:21.215198Z",
     "start_time": "2020-12-16T19:54:16.073244Z"
    }
   },
   "outputs": [
    {
     "name": "stdout",
     "output_type": "stream",
     "text": [
      "10000"
     ]
    }
   ],
   "source": [
    "# clean a part of the dataset (10k), from which we will extract the most common emojis\n",
    "\n",
    "with open('/Users/Thomas/Downloads/emoji-predictor/tweets_fr.txt') as tweets:\n",
    "    with open('/Users/Thomas/Downloads/emoji-predictor/10k_tweets_labelled.txt', 'w') as output:\n",
    "        N_TWEETS = 10000\n",
    "        delim = \"\"\n",
    "        counter = 0\n",
    "        for tweet in tweets:\n",
    "            if counter >= N_TWEETS: break\n",
    "            line = (clean(tweet), list(emojis.get(tweet)))\n",
    "            output.write(delim+str(line))\n",
    "            delim = \",\\n\"\n",
    "            counter += 1\n",
    "            print(f'\\r{counter}', end='')"
   ]
  },
  {
   "cell_type": "code",
   "execution_count": 7,
   "metadata": {
    "ExecuteTime": {
     "end_time": "2020-12-16T19:54:21.487656Z",
     "start_time": "2020-12-16T19:54:21.220192Z"
    },
    "scrolled": true
   },
   "outputs": [
    {
     "data": {
      "text/plain": [
       "['😂',\n",
       " '😭',\n",
       " '👉',\n",
       " '😍',\n",
       " '🙏',\n",
       " '😉',\n",
       " '🔥',\n",
       " '🤣',\n",
       " '😅',\n",
       " '👍',\n",
       " '🎉',\n",
       " '💪',\n",
       " '🤔',\n",
       " '😊',\n",
       " '👌',\n",
       " '✨',\n",
       " '🥰',\n",
       " '😁',\n",
       " '😔',\n",
       " '👏',\n",
       " '😘',\n",
       " '😱',\n",
       " '🥺',\n",
       " '✅',\n",
       " '🙄',\n",
       " '👀',\n",
       " '💕',\n",
       " '🎶',\n",
       " '😀',\n",
       " '😌',\n",
       " '🤩',\n",
       " '😎',\n",
       " '😡',\n",
       " '💀',\n",
       " '🤪',\n",
       " '👇',\n",
       " '😤',\n",
       " '🥳',\n",
       " '😏',\n",
       " '😴',\n",
       " '💙',\n",
       " '😢',\n",
       " '😥',\n",
       " '🔴',\n",
       " '😳',\n",
       " '🥵',\n",
       " '🤓',\n",
       " '🤯',\n",
       " '🎄',\n",
       " '😜',\n",
       " '🎬',\n",
       " '📸',\n",
       " '🙂',\n",
       " '🤫',\n",
       " '😪',\n",
       " '🙈',\n",
       " '👋',\n",
       " '😋',\n",
       " '😓',\n",
       " '🤝',\n",
       " '✊',\n",
       " '💔',\n",
       " '📺',\n",
       " '🙃',\n",
       " '🤞',\n",
       " '🤦',\n",
       " '🤷',\n",
       " '🧐',\n",
       " '⏳',\n",
       " '👨',\n",
       " '🍀',\n",
       " '🐐',\n",
       " '😇',\n",
       " '🤗',\n",
       " '🤮',\n",
       " '🎂',\n",
       " '💛',\n",
       " '💜',\n",
       " '💡',\n",
       " '😞',\n",
       " '🙋',\n",
       " '🚀',\n",
       " '🤒',\n",
       " '👩',\n",
       " '😃',\n",
       " '😠',\n",
       " '😶',\n",
       " '🤧',\n",
       " '🤭',\n",
       " '🎥',\n",
       " '🖤',\n",
       " '😻',\n",
       " '🚨',\n",
       " '⚽',\n",
       " '📚',\n",
       " '😒',\n",
       " '🏆',\n",
       " '😖',\n",
       " '😬',\n",
       " '😰']"
      ]
     },
     "execution_count": 7,
     "metadata": {},
     "output_type": "execute_result"
    }
   ],
   "source": [
    "# get the 100 most common emojis\n",
    "\n",
    "with open('/Users/Thomas/Downloads/emoji-predictor/10k_tweets_labelled.txt') as tweets:\n",
    "    emoji_list = []\n",
    "    for tweet in tweets:\n",
    "        x = ast.literal_eval(tweet)\n",
    "        emoji_list.extend(x[0][1])\n",
    "    emoji_list = np.array(emoji_list)\n",
    "\n",
    "unique, counts = np.unique(emoji_list, return_counts=True)\n",
    "emoji_list = list(sorted(dict(zip(unique, counts)).items(), key=lambda item: item[1], reverse = True))\n",
    "emoji_list = [x[0] for x in emoji_list]\n",
    "emoji_list = emoji_list[:100]\n",
    "\n",
    "with open('/Users/Thomas/Downloads/emoji-predictor/top100.txt', 'w') as output:\n",
    "    output.write(str(emoji_list))\n",
    "    \n",
    "emoji_list"
   ]
  },
  {
   "cell_type": "markdown",
   "metadata": {},
   "source": [
    "## Label encoding and tweet embedding using CamemBERT"
   ]
  },
  {
   "cell_type": "markdown",
   "metadata": {},
   "source": [
    "### Load CamemBERT and check it works fine"
   ]
  },
  {
   "cell_type": "markdown",
   "metadata": {},
   "source": [
    "* With pure torch / fairseq"
   ]
  },
  {
   "cell_type": "code",
   "execution_count": 59,
   "metadata": {
    "ExecuteTime": {
     "end_time": "2020-12-16T22:26:20.689064Z",
     "start_time": "2020-12-16T22:26:07.277696Z"
    }
   },
   "outputs": [
    {
     "name": "stderr",
     "output_type": "stream",
     "text": [
      "Using cache found in /Users/Thomas/.cache/torch/hub/pytorch_fairseq_master\n"
     ]
    },
    {
     "data": {
      "text/plain": [
       "RobertaHubInterface(\n",
       "  (model): RobertaModel(\n",
       "    (encoder): RobertaEncoder(\n",
       "      (sentence_encoder): TransformerSentenceEncoder(\n",
       "        (dropout_module): FairseqDropout()\n",
       "        (embed_tokens): Embedding(32005, 768, padding_idx=1)\n",
       "        (embed_positions): LearnedPositionalEmbedding(514, 768, padding_idx=1)\n",
       "        (layers): ModuleList(\n",
       "          (0): TransformerSentenceEncoderLayer(\n",
       "            (dropout_module): FairseqDropout()\n",
       "            (activation_dropout_module): FairseqDropout()\n",
       "            (self_attn): MultiheadAttention(\n",
       "              (dropout_module): FairseqDropout()\n",
       "              (k_proj): Linear(in_features=768, out_features=768, bias=True)\n",
       "              (v_proj): Linear(in_features=768, out_features=768, bias=True)\n",
       "              (q_proj): Linear(in_features=768, out_features=768, bias=True)\n",
       "              (out_proj): Linear(in_features=768, out_features=768, bias=True)\n",
       "            )\n",
       "            (self_attn_layer_norm): LayerNorm((768,), eps=1e-05, elementwise_affine=True)\n",
       "            (fc1): Linear(in_features=768, out_features=3072, bias=True)\n",
       "            (fc2): Linear(in_features=3072, out_features=768, bias=True)\n",
       "            (final_layer_norm): LayerNorm((768,), eps=1e-05, elementwise_affine=True)\n",
       "          )\n",
       "          (1): TransformerSentenceEncoderLayer(\n",
       "            (dropout_module): FairseqDropout()\n",
       "            (activation_dropout_module): FairseqDropout()\n",
       "            (self_attn): MultiheadAttention(\n",
       "              (dropout_module): FairseqDropout()\n",
       "              (k_proj): Linear(in_features=768, out_features=768, bias=True)\n",
       "              (v_proj): Linear(in_features=768, out_features=768, bias=True)\n",
       "              (q_proj): Linear(in_features=768, out_features=768, bias=True)\n",
       "              (out_proj): Linear(in_features=768, out_features=768, bias=True)\n",
       "            )\n",
       "            (self_attn_layer_norm): LayerNorm((768,), eps=1e-05, elementwise_affine=True)\n",
       "            (fc1): Linear(in_features=768, out_features=3072, bias=True)\n",
       "            (fc2): Linear(in_features=3072, out_features=768, bias=True)\n",
       "            (final_layer_norm): LayerNorm((768,), eps=1e-05, elementwise_affine=True)\n",
       "          )\n",
       "          (2): TransformerSentenceEncoderLayer(\n",
       "            (dropout_module): FairseqDropout()\n",
       "            (activation_dropout_module): FairseqDropout()\n",
       "            (self_attn): MultiheadAttention(\n",
       "              (dropout_module): FairseqDropout()\n",
       "              (k_proj): Linear(in_features=768, out_features=768, bias=True)\n",
       "              (v_proj): Linear(in_features=768, out_features=768, bias=True)\n",
       "              (q_proj): Linear(in_features=768, out_features=768, bias=True)\n",
       "              (out_proj): Linear(in_features=768, out_features=768, bias=True)\n",
       "            )\n",
       "            (self_attn_layer_norm): LayerNorm((768,), eps=1e-05, elementwise_affine=True)\n",
       "            (fc1): Linear(in_features=768, out_features=3072, bias=True)\n",
       "            (fc2): Linear(in_features=3072, out_features=768, bias=True)\n",
       "            (final_layer_norm): LayerNorm((768,), eps=1e-05, elementwise_affine=True)\n",
       "          )\n",
       "          (3): TransformerSentenceEncoderLayer(\n",
       "            (dropout_module): FairseqDropout()\n",
       "            (activation_dropout_module): FairseqDropout()\n",
       "            (self_attn): MultiheadAttention(\n",
       "              (dropout_module): FairseqDropout()\n",
       "              (k_proj): Linear(in_features=768, out_features=768, bias=True)\n",
       "              (v_proj): Linear(in_features=768, out_features=768, bias=True)\n",
       "              (q_proj): Linear(in_features=768, out_features=768, bias=True)\n",
       "              (out_proj): Linear(in_features=768, out_features=768, bias=True)\n",
       "            )\n",
       "            (self_attn_layer_norm): LayerNorm((768,), eps=1e-05, elementwise_affine=True)\n",
       "            (fc1): Linear(in_features=768, out_features=3072, bias=True)\n",
       "            (fc2): Linear(in_features=3072, out_features=768, bias=True)\n",
       "            (final_layer_norm): LayerNorm((768,), eps=1e-05, elementwise_affine=True)\n",
       "          )\n",
       "          (4): TransformerSentenceEncoderLayer(\n",
       "            (dropout_module): FairseqDropout()\n",
       "            (activation_dropout_module): FairseqDropout()\n",
       "            (self_attn): MultiheadAttention(\n",
       "              (dropout_module): FairseqDropout()\n",
       "              (k_proj): Linear(in_features=768, out_features=768, bias=True)\n",
       "              (v_proj): Linear(in_features=768, out_features=768, bias=True)\n",
       "              (q_proj): Linear(in_features=768, out_features=768, bias=True)\n",
       "              (out_proj): Linear(in_features=768, out_features=768, bias=True)\n",
       "            )\n",
       "            (self_attn_layer_norm): LayerNorm((768,), eps=1e-05, elementwise_affine=True)\n",
       "            (fc1): Linear(in_features=768, out_features=3072, bias=True)\n",
       "            (fc2): Linear(in_features=3072, out_features=768, bias=True)\n",
       "            (final_layer_norm): LayerNorm((768,), eps=1e-05, elementwise_affine=True)\n",
       "          )\n",
       "          (5): TransformerSentenceEncoderLayer(\n",
       "            (dropout_module): FairseqDropout()\n",
       "            (activation_dropout_module): FairseqDropout()\n",
       "            (self_attn): MultiheadAttention(\n",
       "              (dropout_module): FairseqDropout()\n",
       "              (k_proj): Linear(in_features=768, out_features=768, bias=True)\n",
       "              (v_proj): Linear(in_features=768, out_features=768, bias=True)\n",
       "              (q_proj): Linear(in_features=768, out_features=768, bias=True)\n",
       "              (out_proj): Linear(in_features=768, out_features=768, bias=True)\n",
       "            )\n",
       "            (self_attn_layer_norm): LayerNorm((768,), eps=1e-05, elementwise_affine=True)\n",
       "            (fc1): Linear(in_features=768, out_features=3072, bias=True)\n",
       "            (fc2): Linear(in_features=3072, out_features=768, bias=True)\n",
       "            (final_layer_norm): LayerNorm((768,), eps=1e-05, elementwise_affine=True)\n",
       "          )\n",
       "          (6): TransformerSentenceEncoderLayer(\n",
       "            (dropout_module): FairseqDropout()\n",
       "            (activation_dropout_module): FairseqDropout()\n",
       "            (self_attn): MultiheadAttention(\n",
       "              (dropout_module): FairseqDropout()\n",
       "              (k_proj): Linear(in_features=768, out_features=768, bias=True)\n",
       "              (v_proj): Linear(in_features=768, out_features=768, bias=True)\n",
       "              (q_proj): Linear(in_features=768, out_features=768, bias=True)\n",
       "              (out_proj): Linear(in_features=768, out_features=768, bias=True)\n",
       "            )\n",
       "            (self_attn_layer_norm): LayerNorm((768,), eps=1e-05, elementwise_affine=True)\n",
       "            (fc1): Linear(in_features=768, out_features=3072, bias=True)\n",
       "            (fc2): Linear(in_features=3072, out_features=768, bias=True)\n",
       "            (final_layer_norm): LayerNorm((768,), eps=1e-05, elementwise_affine=True)\n",
       "          )\n",
       "          (7): TransformerSentenceEncoderLayer(\n",
       "            (dropout_module): FairseqDropout()\n",
       "            (activation_dropout_module): FairseqDropout()\n",
       "            (self_attn): MultiheadAttention(\n",
       "              (dropout_module): FairseqDropout()\n",
       "              (k_proj): Linear(in_features=768, out_features=768, bias=True)\n",
       "              (v_proj): Linear(in_features=768, out_features=768, bias=True)\n",
       "              (q_proj): Linear(in_features=768, out_features=768, bias=True)\n",
       "              (out_proj): Linear(in_features=768, out_features=768, bias=True)\n",
       "            )\n",
       "            (self_attn_layer_norm): LayerNorm((768,), eps=1e-05, elementwise_affine=True)\n",
       "            (fc1): Linear(in_features=768, out_features=3072, bias=True)\n",
       "            (fc2): Linear(in_features=3072, out_features=768, bias=True)\n",
       "            (final_layer_norm): LayerNorm((768,), eps=1e-05, elementwise_affine=True)\n",
       "          )\n",
       "          (8): TransformerSentenceEncoderLayer(\n",
       "            (dropout_module): FairseqDropout()\n",
       "            (activation_dropout_module): FairseqDropout()\n",
       "            (self_attn): MultiheadAttention(\n",
       "              (dropout_module): FairseqDropout()\n",
       "              (k_proj): Linear(in_features=768, out_features=768, bias=True)\n",
       "              (v_proj): Linear(in_features=768, out_features=768, bias=True)\n",
       "              (q_proj): Linear(in_features=768, out_features=768, bias=True)\n",
       "              (out_proj): Linear(in_features=768, out_features=768, bias=True)\n",
       "            )\n",
       "            (self_attn_layer_norm): LayerNorm((768,), eps=1e-05, elementwise_affine=True)\n",
       "            (fc1): Linear(in_features=768, out_features=3072, bias=True)\n",
       "            (fc2): Linear(in_features=3072, out_features=768, bias=True)\n",
       "            (final_layer_norm): LayerNorm((768,), eps=1e-05, elementwise_affine=True)\n",
       "          )\n",
       "          (9): TransformerSentenceEncoderLayer(\n",
       "            (dropout_module): FairseqDropout()\n",
       "            (activation_dropout_module): FairseqDropout()\n",
       "            (self_attn): MultiheadAttention(\n",
       "              (dropout_module): FairseqDropout()\n",
       "              (k_proj): Linear(in_features=768, out_features=768, bias=True)\n",
       "              (v_proj): Linear(in_features=768, out_features=768, bias=True)\n",
       "              (q_proj): Linear(in_features=768, out_features=768, bias=True)\n",
       "              (out_proj): Linear(in_features=768, out_features=768, bias=True)\n",
       "            )\n",
       "            (self_attn_layer_norm): LayerNorm((768,), eps=1e-05, elementwise_affine=True)\n",
       "            (fc1): Linear(in_features=768, out_features=3072, bias=True)\n",
       "            (fc2): Linear(in_features=3072, out_features=768, bias=True)\n",
       "            (final_layer_norm): LayerNorm((768,), eps=1e-05, elementwise_affine=True)\n",
       "          )\n",
       "          (10): TransformerSentenceEncoderLayer(\n",
       "            (dropout_module): FairseqDropout()\n",
       "            (activation_dropout_module): FairseqDropout()\n",
       "            (self_attn): MultiheadAttention(\n",
       "              (dropout_module): FairseqDropout()\n",
       "              (k_proj): Linear(in_features=768, out_features=768, bias=True)\n",
       "              (v_proj): Linear(in_features=768, out_features=768, bias=True)\n",
       "              (q_proj): Linear(in_features=768, out_features=768, bias=True)\n",
       "              (out_proj): Linear(in_features=768, out_features=768, bias=True)\n",
       "            )\n",
       "            (self_attn_layer_norm): LayerNorm((768,), eps=1e-05, elementwise_affine=True)\n",
       "            (fc1): Linear(in_features=768, out_features=3072, bias=True)\n",
       "            (fc2): Linear(in_features=3072, out_features=768, bias=True)\n",
       "            (final_layer_norm): LayerNorm((768,), eps=1e-05, elementwise_affine=True)\n",
       "          )\n",
       "          (11): TransformerSentenceEncoderLayer(\n",
       "            (dropout_module): FairseqDropout()\n",
       "            (activation_dropout_module): FairseqDropout()\n",
       "            (self_attn): MultiheadAttention(\n",
       "              (dropout_module): FairseqDropout()\n",
       "              (k_proj): Linear(in_features=768, out_features=768, bias=True)\n",
       "              (v_proj): Linear(in_features=768, out_features=768, bias=True)\n",
       "              (q_proj): Linear(in_features=768, out_features=768, bias=True)\n",
       "              (out_proj): Linear(in_features=768, out_features=768, bias=True)\n",
       "            )\n",
       "            (self_attn_layer_norm): LayerNorm((768,), eps=1e-05, elementwise_affine=True)\n",
       "            (fc1): Linear(in_features=768, out_features=3072, bias=True)\n",
       "            (fc2): Linear(in_features=3072, out_features=768, bias=True)\n",
       "            (final_layer_norm): LayerNorm((768,), eps=1e-05, elementwise_affine=True)\n",
       "          )\n",
       "        )\n",
       "        (emb_layer_norm): LayerNorm((768,), eps=1e-05, elementwise_affine=True)\n",
       "      )\n",
       "      (lm_head): RobertaLMHead(\n",
       "        (dense): Linear(in_features=768, out_features=768, bias=True)\n",
       "        (layer_norm): LayerNorm((768,), eps=1e-05, elementwise_affine=True)\n",
       "      )\n",
       "    )\n",
       "    (classification_heads): ModuleDict()\n",
       "  )\n",
       ")"
      ]
     },
     "execution_count": 59,
     "metadata": {},
     "output_type": "execute_result"
    }
   ],
   "source": [
    "# load camembert\n",
    "camembert = torch.hub.load('pytorch/fairseq', 'camembert')\n",
    "camembert.eval() # disable dropout (or leave in train mode to finetune)\n",
    "#print(model)"
   ]
  },
  {
   "cell_type": "code",
   "execution_count": 60,
   "metadata": {
    "ExecuteTime": {
     "end_time": "2020-12-16T22:26:20.924857Z",
     "start_time": "2020-12-16T22:26:20.693746Z"
    },
    "scrolled": true
   },
   "outputs": [
    {
     "data": {
      "text/plain": [
       "[('Le deep learning est une sacrée révolution',\n",
       "  0.2869814932346344,\n",
       "  ' révolution'),\n",
       " ('Le deep learning est une sacrée invention',\n",
       "  0.1455322653055191,\n",
       "  ' invention'),\n",
       " ('Le deep learning est une sacrée innovation',\n",
       "  0.04289475828409195,\n",
       "  ' innovation')]"
      ]
     },
     "execution_count": 60,
     "metadata": {},
     "output_type": "execute_result"
    }
   ],
   "source": [
    "# check that it works\n",
    "masked_line = \"Le deep learning est une sacrée <mask>\"\n",
    "camembert.fill_mask(masked_line, topk=3)"
   ]
  },
  {
   "cell_type": "code",
   "execution_count": 72,
   "metadata": {
    "ExecuteTime": {
     "end_time": "2020-12-16T22:32:47.394708Z",
     "start_time": "2020-12-16T22:32:47.240846Z"
    },
    "scrolled": true
   },
   "outputs": [
    {
     "name": "stdout",
     "output_type": "stream",
     "text": [
      "et vous bonne annee les amis\n",
      "tensor([    5,    14,    39,   317, 25315,    19,   784,     6])\n",
      "torch.Size([1, 8, 768])\n",
      "torch.Size([768])\n",
      "torch.Size([768])\n"
     ]
    }
   ],
   "source": [
    "# try embedding a short sentence\n",
    "\n",
    "text = \"et vous bonne annee les amis\"\n",
    "print(text)\n",
    "\n",
    "# tokenize sentence\n",
    "tokens = camembert.encode(text)\n",
    "print(tokens)\n",
    "\n",
    "# run camembert and keep only the last layer\n",
    "last_layer_features = camembert.extract_features(tokens, return_all_hiddens=False)\n",
    "print(last_layer_features.size())\n",
    "\n",
    "# METHOD 1 - POOLING\n",
    "# squeeze empty dimension (dim 0) and average over all tokens (dim 1) to get sentence embedding\n",
    "sentence_embedding = torch.squeeze(last_layer_features)\n",
    "sentence_embedding = torch.mean(sentence_embedding, dim=0)\n",
    "print(sentence_embedding.size())\n",
    "\n",
    "# METHOD 2 - CLS TOKEN\n",
    "# squeeze empty dimension (dim 0) and keep only the CLS token, in first position\n",
    "sentence_embedding = torch.squeeze(last_layer_features)\n",
    "sentence_embedding = sentence_embedding[0,:]\n",
    "print(sentence_embedding.size())"
   ]
  },
  {
   "cell_type": "markdown",
   "metadata": {},
   "source": [
    "* With HuggingFace transformers"
   ]
  },
  {
   "cell_type": "code",
   "execution_count": 63,
   "metadata": {
    "ExecuteTime": {
     "end_time": "2020-12-16T22:27:13.830314Z",
     "start_time": "2020-12-16T22:27:08.221089Z"
    }
   },
   "outputs": [],
   "source": [
    "# load model\n",
    "tokenizer = CamembertTokenizer.from_pretrained('camembert-base')\n",
    "model = CamembertModel.from_pretrained('camembert-base')"
   ]
  },
  {
   "cell_type": "code",
   "execution_count": 64,
   "metadata": {
    "ExecuteTime": {
     "end_time": "2020-12-16T22:27:16.143603Z",
     "start_time": "2020-12-16T22:27:15.936265Z"
    },
    "scrolled": false
   },
   "outputs": [
    {
     "name": "stdout",
     "output_type": "stream",
     "text": [
      "[5, 14, 39, 317, 25315, 19, 784, 6]\n",
      "['<s>', '▁et', '▁vous', '▁bonne', '▁annee', '▁les', '▁amis', '</s>']\n",
      "torch.Size([1, 8, 768])\n",
      "torch.Size([768])\n"
     ]
    }
   ],
   "source": [
    "text = \"et vous bonne annee les amis\"\n",
    "\n",
    "# tokenize sentence\n",
    "token_ids = tokenizer.encode(text)\n",
    "tokens = [tokenizer._convert_id_to_token(idx) for idx in token_ids]\n",
    "print(token_ids)\n",
    "print(tokens) # <s> is the classification token\n",
    "\n",
    "# run model\n",
    "token_ids = torch.tensor(token_ids).unsqueeze(0)\n",
    "# forward method returns a tuple (we only want the logits, first element)\n",
    "output = model(token_ids)[0]\n",
    "print(output.size())\n",
    "\n",
    "# only grab output of CLS token (<s>), which is the first token\n",
    "cls_out = output.squeeze()[0]\n",
    "print(cls_out.size())"
   ]
  },
  {
   "cell_type": "markdown",
   "metadata": {},
   "source": [
    "### Apply to our dataset to create tweet embeddings and label encodings"
   ]
  },
  {
   "cell_type": "markdown",
   "metadata": {},
   "source": [
    "In this section we embed the **first 200 tweets** that contain at least one of the top 100 emojis, and we assign them a one-hot encoded label."
   ]
  },
  {
   "cell_type": "code",
   "execution_count": 94,
   "metadata": {
    "ExecuteTime": {
     "end_time": "2020-12-16T22:48:34.995099Z",
     "start_time": "2020-12-16T22:48:02.742244Z"
    }
   },
   "outputs": [
    {
     "name": "stdout",
     "output_type": "stream",
     "text": [
      "200"
     ]
    }
   ],
   "source": [
    "# create a csv dataset with encoded labels\n",
    "\n",
    "with open('/Users/Thomas/Downloads/emoji-predictor/top100.txt') as f:\n",
    "    emoji_list = ast.literal_eval(f.read())\n",
    "    \n",
    "with open('/Users/Thomas/Downloads/emoji-predictor/10k_tweets_labelled.txt') as tweets:    \n",
    "    \n",
    "    clean_tweets = []\n",
    "    embedded_tweets = []\n",
    "    labels = []\n",
    "    counter = 0\n",
    "    \n",
    "    for tweet in tweets:\n",
    "        if counter >= 200: break\n",
    "        x = ast.literal_eval(tweet)\n",
    "        label = np.array([emoji in x[0][1] for emoji in emoji_list], dtype=int)\n",
    "        if sum(label) > 0:\n",
    "            \n",
    "            # save clean tweet\n",
    "            clean_tweets.append(x[0][0])\n",
    "            \n",
    "            # save label\n",
    "            labels.append(label)\n",
    "            \n",
    "            # embed tweet\n",
    "            tokens = camembert.encode(x[0][0])\n",
    "            last_layer_features = camembert.extract_features(tokens, return_all_hiddens=False)\n",
    "            sentence_embedding = torch.squeeze(last_layer_features)\n",
    "            #sentence_embedding = torch.mean(sentence_embedding, dim=0) # METHOD 1 - POOLING\n",
    "            sentence_embedding = sentence_embedding[0,:] # METHOD 2 - CLS TOKEN\n",
    "            embedded_tweets.append(sentence_embedding.detach().numpy())\n",
    "            \n",
    "            # display counter\n",
    "            counter += 1\n",
    "            print(f'\\r{counter}', end='')\n",
    "    \n",
    "    labels = np.array(labels)"
   ]
  },
  {
   "cell_type": "code",
   "execution_count": 95,
   "metadata": {
    "ExecuteTime": {
     "end_time": "2020-12-16T22:48:38.332527Z",
     "start_time": "2020-12-16T22:48:35.002696Z"
    },
    "scrolled": true
   },
   "outputs": [
    {
     "data": {
      "text/html": [
       "<div>\n",
       "<style scoped>\n",
       "    .dataframe tbody tr th:only-of-type {\n",
       "        vertical-align: middle;\n",
       "    }\n",
       "\n",
       "    .dataframe tbody tr th {\n",
       "        vertical-align: top;\n",
       "    }\n",
       "\n",
       "    .dataframe thead th {\n",
       "        text-align: right;\n",
       "    }\n",
       "</style>\n",
       "<table border=\"1\" class=\"dataframe\">\n",
       "  <thead>\n",
       "    <tr style=\"text-align: right;\">\n",
       "      <th></th>\n",
       "      <th>tweets</th>\n",
       "      <th>embeddings</th>\n",
       "      <th>emoji_0</th>\n",
       "      <th>emoji_1</th>\n",
       "      <th>emoji_2</th>\n",
       "      <th>emoji_3</th>\n",
       "      <th>emoji_4</th>\n",
       "      <th>emoji_5</th>\n",
       "      <th>emoji_6</th>\n",
       "      <th>emoji_7</th>\n",
       "      <th>...</th>\n",
       "      <th>emoji_90</th>\n",
       "      <th>emoji_91</th>\n",
       "      <th>emoji_92</th>\n",
       "      <th>emoji_93</th>\n",
       "      <th>emoji_94</th>\n",
       "      <th>emoji_95</th>\n",
       "      <th>emoji_96</th>\n",
       "      <th>emoji_97</th>\n",
       "      <th>emoji_98</th>\n",
       "      <th>emoji_99</th>\n",
       "    </tr>\n",
       "  </thead>\n",
       "  <tbody>\n",
       "    <tr>\n",
       "      <th>0</th>\n",
       "      <td>macron n a pas honte de faire la fete brizitte...</td>\n",
       "      <td>[-0.08949693, 0.16357468, 0.042515405, 0.05421...</td>\n",
       "      <td>0</td>\n",
       "      <td>0</td>\n",
       "      <td>0</td>\n",
       "      <td>0</td>\n",
       "      <td>0</td>\n",
       "      <td>0</td>\n",
       "      <td>0</td>\n",
       "      <td>0</td>\n",
       "      <td>...</td>\n",
       "      <td>0</td>\n",
       "      <td>0</td>\n",
       "      <td>0</td>\n",
       "      <td>0</td>\n",
       "      <td>0</td>\n",
       "      <td>0</td>\n",
       "      <td>0</td>\n",
       "      <td>0</td>\n",
       "      <td>0</td>\n",
       "      <td>0</td>\n",
       "    </tr>\n",
       "    <tr>\n",
       "      <th>1</th>\n",
       "      <td>et vous bonne annee les amis</td>\n",
       "      <td>[-0.034138117, 0.09090688, 0.13786273, -0.0594...</td>\n",
       "      <td>0</td>\n",
       "      <td>0</td>\n",
       "      <td>0</td>\n",
       "      <td>0</td>\n",
       "      <td>0</td>\n",
       "      <td>0</td>\n",
       "      <td>0</td>\n",
       "      <td>0</td>\n",
       "      <td>...</td>\n",
       "      <td>0</td>\n",
       "      <td>0</td>\n",
       "      <td>0</td>\n",
       "      <td>0</td>\n",
       "      <td>0</td>\n",
       "      <td>0</td>\n",
       "      <td>0</td>\n",
       "      <td>0</td>\n",
       "      <td>0</td>\n",
       "      <td>0</td>\n",
       "    </tr>\n",
       "    <tr>\n",
       "      <th>2</th>\n",
       "      <td>villa brulee bientot la venue de mujdat</td>\n",
       "      <td>[-0.06162864, 0.20532067, 0.06378474, -0.03820...</td>\n",
       "      <td>0</td>\n",
       "      <td>0</td>\n",
       "      <td>0</td>\n",
       "      <td>0</td>\n",
       "      <td>0</td>\n",
       "      <td>0</td>\n",
       "      <td>0</td>\n",
       "      <td>0</td>\n",
       "      <td>...</td>\n",
       "      <td>0</td>\n",
       "      <td>0</td>\n",
       "      <td>0</td>\n",
       "      <td>0</td>\n",
       "      <td>0</td>\n",
       "      <td>0</td>\n",
       "      <td>0</td>\n",
       "      <td>0</td>\n",
       "      <td>0</td>\n",
       "      <td>0</td>\n",
       "    </tr>\n",
       "    <tr>\n",
       "      <th>3</th>\n",
       "      <td>mary poppins supercalifragilisticexpialidociou...</td>\n",
       "      <td>[-0.071972005, 0.31007147, 0.063247345, -0.070...</td>\n",
       "      <td>0</td>\n",
       "      <td>0</td>\n",
       "      <td>0</td>\n",
       "      <td>1</td>\n",
       "      <td>0</td>\n",
       "      <td>0</td>\n",
       "      <td>0</td>\n",
       "      <td>0</td>\n",
       "      <td>...</td>\n",
       "      <td>0</td>\n",
       "      <td>0</td>\n",
       "      <td>0</td>\n",
       "      <td>0</td>\n",
       "      <td>0</td>\n",
       "      <td>0</td>\n",
       "      <td>0</td>\n",
       "      <td>0</td>\n",
       "      <td>0</td>\n",
       "      <td>0</td>\n",
       "    </tr>\n",
       "    <tr>\n",
       "      <th>4</th>\n",
       "      <td>le seul truc qui me choque dans house of cards...</td>\n",
       "      <td>[-0.009053078, 0.106543705, 0.004008528, 0.074...</td>\n",
       "      <td>0</td>\n",
       "      <td>0</td>\n",
       "      <td>0</td>\n",
       "      <td>0</td>\n",
       "      <td>0</td>\n",
       "      <td>0</td>\n",
       "      <td>0</td>\n",
       "      <td>0</td>\n",
       "      <td>...</td>\n",
       "      <td>0</td>\n",
       "      <td>0</td>\n",
       "      <td>0</td>\n",
       "      <td>0</td>\n",
       "      <td>0</td>\n",
       "      <td>0</td>\n",
       "      <td>0</td>\n",
       "      <td>0</td>\n",
       "      <td>0</td>\n",
       "      <td>0</td>\n",
       "    </tr>\n",
       "    <tr>\n",
       "      <th>...</th>\n",
       "      <td>...</td>\n",
       "      <td>...</td>\n",
       "      <td>...</td>\n",
       "      <td>...</td>\n",
       "      <td>...</td>\n",
       "      <td>...</td>\n",
       "      <td>...</td>\n",
       "      <td>...</td>\n",
       "      <td>...</td>\n",
       "      <td>...</td>\n",
       "      <td>...</td>\n",
       "      <td>...</td>\n",
       "      <td>...</td>\n",
       "      <td>...</td>\n",
       "      <td>...</td>\n",
       "      <td>...</td>\n",
       "      <td>...</td>\n",
       "      <td>...</td>\n",
       "      <td>...</td>\n",
       "      <td>...</td>\n",
       "      <td>...</td>\n",
       "    </tr>\n",
       "    <tr>\n",
       "      <th>195</th>\n",
       "      <td>oh petard je vais me mettre a l impression je ...</td>\n",
       "      <td>[-0.08813255, 0.11456461, 0.08066056, -0.04078...</td>\n",
       "      <td>1</td>\n",
       "      <td>0</td>\n",
       "      <td>0</td>\n",
       "      <td>0</td>\n",
       "      <td>0</td>\n",
       "      <td>0</td>\n",
       "      <td>0</td>\n",
       "      <td>0</td>\n",
       "      <td>...</td>\n",
       "      <td>0</td>\n",
       "      <td>0</td>\n",
       "      <td>0</td>\n",
       "      <td>0</td>\n",
       "      <td>0</td>\n",
       "      <td>0</td>\n",
       "      <td>0</td>\n",
       "      <td>0</td>\n",
       "      <td>0</td>\n",
       "      <td>0</td>\n",
       "    </tr>\n",
       "    <tr>\n",
       "      <th>196</th>\n",
       "      <td>j ai un pass de g qui a fait h</td>\n",
       "      <td>[-0.018228939, 0.15765423, 0.0024061128, -0.05...</td>\n",
       "      <td>0</td>\n",
       "      <td>0</td>\n",
       "      <td>0</td>\n",
       "      <td>0</td>\n",
       "      <td>0</td>\n",
       "      <td>0</td>\n",
       "      <td>0</td>\n",
       "      <td>0</td>\n",
       "      <td>...</td>\n",
       "      <td>0</td>\n",
       "      <td>0</td>\n",
       "      <td>0</td>\n",
       "      <td>0</td>\n",
       "      <td>0</td>\n",
       "      <td>0</td>\n",
       "      <td>0</td>\n",
       "      <td>0</td>\n",
       "      <td>0</td>\n",
       "      <td>0</td>\n",
       "    </tr>\n",
       "    <tr>\n",
       "      <th>197</th>\n",
       "      <td>t as raison</td>\n",
       "      <td>[-0.16982707, 0.21184546, 0.19472101, -0.15934...</td>\n",
       "      <td>1</td>\n",
       "      <td>0</td>\n",
       "      <td>0</td>\n",
       "      <td>0</td>\n",
       "      <td>0</td>\n",
       "      <td>0</td>\n",
       "      <td>0</td>\n",
       "      <td>0</td>\n",
       "      <td>...</td>\n",
       "      <td>0</td>\n",
       "      <td>0</td>\n",
       "      <td>0</td>\n",
       "      <td>0</td>\n",
       "      <td>0</td>\n",
       "      <td>0</td>\n",
       "      <td>0</td>\n",
       "      <td>0</td>\n",
       "      <td>0</td>\n",
       "      <td>0</td>\n",
       "    </tr>\n",
       "    <tr>\n",
       "      <th>198</th>\n",
       "      <td>tres tres bonne question j attend les reponses</td>\n",
       "      <td>[-0.08709042, 0.28426468, -0.0034655817, -0.07...</td>\n",
       "      <td>0</td>\n",
       "      <td>0</td>\n",
       "      <td>0</td>\n",
       "      <td>0</td>\n",
       "      <td>0</td>\n",
       "      <td>0</td>\n",
       "      <td>0</td>\n",
       "      <td>0</td>\n",
       "      <td>...</td>\n",
       "      <td>0</td>\n",
       "      <td>0</td>\n",
       "      <td>0</td>\n",
       "      <td>0</td>\n",
       "      <td>0</td>\n",
       "      <td>0</td>\n",
       "      <td>0</td>\n",
       "      <td>0</td>\n",
       "      <td>0</td>\n",
       "      <td>0</td>\n",
       "    </tr>\n",
       "    <tr>\n",
       "      <th>199</th>\n",
       "      <td>le marche de noel aura lieu demain a partir de...</td>\n",
       "      <td>[-0.06366463, 0.0940409, 0.10986172, -0.087324...</td>\n",
       "      <td>0</td>\n",
       "      <td>0</td>\n",
       "      <td>0</td>\n",
       "      <td>0</td>\n",
       "      <td>0</td>\n",
       "      <td>0</td>\n",
       "      <td>0</td>\n",
       "      <td>0</td>\n",
       "      <td>...</td>\n",
       "      <td>0</td>\n",
       "      <td>0</td>\n",
       "      <td>0</td>\n",
       "      <td>0</td>\n",
       "      <td>0</td>\n",
       "      <td>0</td>\n",
       "      <td>0</td>\n",
       "      <td>0</td>\n",
       "      <td>0</td>\n",
       "      <td>0</td>\n",
       "    </tr>\n",
       "  </tbody>\n",
       "</table>\n",
       "<p>200 rows × 102 columns</p>\n",
       "</div>"
      ],
      "text/plain": [
       "                                                tweets  \\\n",
       "0    macron n a pas honte de faire la fete brizitte...   \n",
       "1                         et vous bonne annee les amis   \n",
       "2              villa brulee bientot la venue de mujdat   \n",
       "3    mary poppins supercalifragilisticexpialidociou...   \n",
       "4    le seul truc qui me choque dans house of cards...   \n",
       "..                                                 ...   \n",
       "195  oh petard je vais me mettre a l impression je ...   \n",
       "196                     j ai un pass de g qui a fait h   \n",
       "197                                        t as raison   \n",
       "198     tres tres bonne question j attend les reponses   \n",
       "199  le marche de noel aura lieu demain a partir de...   \n",
       "\n",
       "                                            embeddings  emoji_0  emoji_1  \\\n",
       "0    [-0.08949693, 0.16357468, 0.042515405, 0.05421...        0        0   \n",
       "1    [-0.034138117, 0.09090688, 0.13786273, -0.0594...        0        0   \n",
       "2    [-0.06162864, 0.20532067, 0.06378474, -0.03820...        0        0   \n",
       "3    [-0.071972005, 0.31007147, 0.063247345, -0.070...        0        0   \n",
       "4    [-0.009053078, 0.106543705, 0.004008528, 0.074...        0        0   \n",
       "..                                                 ...      ...      ...   \n",
       "195  [-0.08813255, 0.11456461, 0.08066056, -0.04078...        1        0   \n",
       "196  [-0.018228939, 0.15765423, 0.0024061128, -0.05...        0        0   \n",
       "197  [-0.16982707, 0.21184546, 0.19472101, -0.15934...        1        0   \n",
       "198  [-0.08709042, 0.28426468, -0.0034655817, -0.07...        0        0   \n",
       "199  [-0.06366463, 0.0940409, 0.10986172, -0.087324...        0        0   \n",
       "\n",
       "     emoji_2  emoji_3  emoji_4  emoji_5  emoji_6  emoji_7  ...  emoji_90  \\\n",
       "0          0        0        0        0        0        0  ...         0   \n",
       "1          0        0        0        0        0        0  ...         0   \n",
       "2          0        0        0        0        0        0  ...         0   \n",
       "3          0        1        0        0        0        0  ...         0   \n",
       "4          0        0        0        0        0        0  ...         0   \n",
       "..       ...      ...      ...      ...      ...      ...  ...       ...   \n",
       "195        0        0        0        0        0        0  ...         0   \n",
       "196        0        0        0        0        0        0  ...         0   \n",
       "197        0        0        0        0        0        0  ...         0   \n",
       "198        0        0        0        0        0        0  ...         0   \n",
       "199        0        0        0        0        0        0  ...         0   \n",
       "\n",
       "     emoji_91  emoji_92  emoji_93  emoji_94  emoji_95  emoji_96  emoji_97  \\\n",
       "0           0         0         0         0         0         0         0   \n",
       "1           0         0         0         0         0         0         0   \n",
       "2           0         0         0         0         0         0         0   \n",
       "3           0         0         0         0         0         0         0   \n",
       "4           0         0         0         0         0         0         0   \n",
       "..        ...       ...       ...       ...       ...       ...       ...   \n",
       "195         0         0         0         0         0         0         0   \n",
       "196         0         0         0         0         0         0         0   \n",
       "197         0         0         0         0         0         0         0   \n",
       "198         0         0         0         0         0         0         0   \n",
       "199         0         0         0         0         0         0         0   \n",
       "\n",
       "     emoji_98  emoji_99  \n",
       "0           0         0  \n",
       "1           0         0  \n",
       "2           0         0  \n",
       "3           0         0  \n",
       "4           0         0  \n",
       "..        ...       ...  \n",
       "195         0         0  \n",
       "196         0         0  \n",
       "197         0         0  \n",
       "198         0         0  \n",
       "199         0         0  \n",
       "\n",
       "[200 rows x 102 columns]"
      ]
     },
     "execution_count": 95,
     "metadata": {},
     "output_type": "execute_result"
    }
   ],
   "source": [
    "df = pd.DataFrame()\n",
    "df['tweets'] = clean_tweets\n",
    "df['embeddings'] = embedded_tweets\n",
    "for i in range(100):\n",
    "    df[f'emoji_{i}'] = labels[:,i]\n",
    "df.to_csv('/Users/Thomas/Downloads/emoji-predictor/encoded_data.csv')\n",
    "#df = df[:1000]\n",
    "df"
   ]
  },
  {
   "cell_type": "markdown",
   "metadata": {},
   "source": [
    "## Emoji classification"
   ]
  },
  {
   "cell_type": "markdown",
   "metadata": {},
   "source": [
    "### Training"
   ]
  },
  {
   "cell_type": "code",
   "execution_count": 131,
   "metadata": {
    "ExecuteTime": {
     "end_time": "2020-12-16T23:07:21.466896Z",
     "start_time": "2020-12-16T23:07:21.450986Z"
    }
   },
   "outputs": [
    {
     "name": "stdout",
     "output_type": "stream",
     "text": [
      "(180, 768)\n",
      "(180, 100)\n",
      "(20, 768)\n",
      "(20, 100)\n"
     ]
    }
   ],
   "source": [
    "# train test split\n",
    "\n",
    "train_prop = 0.9\n",
    "test_idx = int(train_prop*len(df))\n",
    "x = np.concatenate(df['embeddings'].values)\n",
    "x = np.reshape(x, (200, 768))\n",
    "y = df.drop(['embeddings', 'tweets'], axis=1).values\n",
    "\n",
    "x_train = x[:test_idx]\n",
    "y_train = y[:test_idx]\n",
    "print(x_train.shape)\n",
    "print(y_train.shape)\n",
    "\n",
    "x_test = x[test_idx:]\n",
    "y_test = y[test_idx:]\n",
    "print(x_test.shape)\n",
    "print(y_test.shape)"
   ]
  },
  {
   "cell_type": "code",
   "execution_count": 132,
   "metadata": {
    "ExecuteTime": {
     "end_time": "2020-12-16T23:07:28.318067Z",
     "start_time": "2020-12-16T23:07:28.170186Z"
    }
   },
   "outputs": [],
   "source": [
    "# build classification model\n",
    "\n",
    "model = keras.Sequential(\n",
    "    [\n",
    "        layers.Dense(768, activation=\"relu\"),\n",
    "        layers.Dense(334, activation=\"relu\"),\n",
    "        layers.Dense(100, activation=\"sigmoid\"),\n",
    "    ]\n",
    ")\n",
    "\n",
    "model.compile(optimizer = 'adam',\n",
    "              loss=tf.keras.losses.BinaryCrossentropy(),\n",
    "              metrics = tf.keras.metrics.BinaryCrossentropy())"
   ]
  },
  {
   "cell_type": "code",
   "execution_count": 133,
   "metadata": {
    "ExecuteTime": {
     "end_time": "2020-12-16T23:07:39.604121Z",
     "start_time": "2020-12-16T23:07:37.700777Z"
    }
   },
   "outputs": [
    {
     "name": "stdout",
     "output_type": "stream",
     "text": [
      "Epoch 1/4\n",
      "18/18 [==============================] - 1s 24ms/step - loss: 0.4319 - binary_crossentropy: 0.4319 - val_loss: 0.1075 - val_binary_crossentropy: 0.1075\n",
      "Epoch 2/4\n",
      "18/18 [==============================] - 0s 11ms/step - loss: 0.1007 - binary_crossentropy: 0.1007 - val_loss: 0.0836 - val_binary_crossentropy: 0.0836\n",
      "Epoch 3/4\n",
      "18/18 [==============================] - 0s 11ms/step - loss: 0.0684 - binary_crossentropy: 0.0684 - val_loss: 0.0688 - val_binary_crossentropy: 0.0688\n",
      "Epoch 4/4\n",
      "18/18 [==============================] - 0s 10ms/step - loss: 0.0610 - binary_crossentropy: 0.0610 - val_loss: 0.0683 - val_binary_crossentropy: 0.0683\n",
      "dict_keys(['loss', 'binary_crossentropy', 'val_loss', 'val_binary_crossentropy'])\n"
     ]
    }
   ],
   "source": [
    "# train model\n",
    "history = model.fit(x_train, y_train, validation_split = 0.2, epochs = 4, batch_size = 8)\n",
    "print(history.history.keys())"
   ]
  },
  {
   "cell_type": "code",
   "execution_count": 134,
   "metadata": {
    "ExecuteTime": {
     "end_time": "2020-12-16T23:07:39.960221Z",
     "start_time": "2020-12-16T23:07:39.608523Z"
    },
    "scrolled": true
   },
   "outputs": [
    {
     "data": {
      "image/png": "[encoded data removed]",
      "text/plain": [
       "<Figure size 432x288 with 1 Axes>"
      ]
     },
     "metadata": {
      "needs_background": "light"
     },
     "output_type": "display_data"
    }
   ],
   "source": [
    "# plot training curves\n",
    "\n",
    "plt.plot(history.history['loss'])\n",
    "plt.plot(history.history['val_loss'])\n",
    "plt.title('model loss')\n",
    "plt.ylabel('loss')\n",
    "plt.xlabel('epoch')\n",
    "plt.legend(['train', 'val'], loc='upper left')\n",
    "plt.show()"
   ]
  },
  {
   "cell_type": "code",
   "execution_count": 166,
   "metadata": {
    "ExecuteTime": {
     "end_time": "2020-12-16T23:22:58.754638Z",
     "start_time": "2020-12-16T23:22:58.650691Z"
    }
   },
   "outputs": [],
   "source": [
    "# save model\n",
    "model.save(\"/Users/Thomas/Downloads/emoji-predictor/model.h5\")"
   ]
  },
  {
   "cell_type": "markdown",
   "metadata": {},
   "source": [
    "### Testing"
   ]
  },
  {
   "cell_type": "markdown",
   "metadata": {},
   "source": [
    "* On our test set"
   ]
  },
  {
   "cell_type": "code",
   "execution_count": 137,
   "metadata": {
    "ExecuteTime": {
     "end_time": "2020-12-16T23:09:30.090676Z",
     "start_time": "2020-12-16T23:09:30.032001Z"
    }
   },
   "outputs": [],
   "source": [
    "y_pred = model.predict(x_test)"
   ]
  },
  {
   "cell_type": "code",
   "execution_count": 164,
   "metadata": {
    "ExecuteTime": {
     "end_time": "2020-12-16T23:20:45.476105Z",
     "start_time": "2020-12-16T23:20:45.450068Z"
    },
    "scrolled": true
   },
   "outputs": [
    {
     "name": "stdout",
     "output_type": "stream",
     "text": [
      "predicted (0.0611): 😭   true: ['🤮']\n",
      "\n",
      "**************************\n",
      "\n",
      "\n",
      "predicted (0.0676): 😭   true: ['😃']\n",
      "\n",
      "**************************\n",
      "\n",
      "\n",
      "predicted (0.0623): 😭   true: ['🤗']\n",
      "\n",
      "**************************\n",
      "\n",
      "\n",
      "predicted (0.0653): 😭   true: ['😉', '🤷']\n",
      "\n",
      "**************************\n",
      "\n",
      "\n",
      "predicted (0.0674): 😂   true: ['🚨']\n",
      "\n",
      "**************************\n",
      "\n",
      "\n",
      "predicted (0.0696): 😭   true: ['🥵']\n",
      "\n",
      "**************************\n",
      "\n",
      "\n",
      "predicted (0.0634): 😭   true: ['💙']\n",
      "\n",
      "**************************\n",
      "\n",
      "\n",
      "predicted (0.0642): 😭   true: ['🤧']\n",
      "\n",
      "**************************\n",
      "\n",
      "\n",
      "predicted (0.0648): 😭   true: ['🙏']\n",
      "\n",
      "**************************\n",
      "\n",
      "\n",
      "predicted (0.0644): 😭   true: ['👇']\n",
      "\n",
      "**************************\n",
      "\n",
      "\n",
      "predicted (0.0676): 😂   true: ['✅', '😃']\n",
      "\n",
      "**************************\n",
      "\n",
      "\n",
      "predicted (0.0725): 😭   true: ['😰']\n",
      "\n",
      "**************************\n",
      "\n",
      "\n",
      "predicted (0.0768): 😂   true: ['🎬']\n",
      "\n",
      "**************************\n",
      "\n",
      "\n",
      "predicted (0.0725): 😭   true: ['😱']\n",
      "\n",
      "**************************\n",
      "\n",
      "\n",
      "predicted (0.0743): 😭   true: ['📸']\n",
      "\n",
      "**************************\n",
      "\n",
      "\n",
      "predicted (0.0625): 😭   true: ['😂']\n",
      "\n",
      "**************************\n",
      "\n",
      "\n",
      "predicted (0.0757): 😭   true: ['🤒']\n",
      "\n",
      "**************************\n",
      "\n",
      "\n",
      "predicted (0.0740): 😭   true: ['😂']\n",
      "\n",
      "**************************\n",
      "\n",
      "\n",
      "predicted (0.0628): 😭   true: ['👀']\n",
      "\n",
      "**************************\n",
      "\n",
      "\n",
      "predicted (0.0573): 😂   true: ['😊']\n",
      "\n",
      "**************************\n",
      "\n",
      "\n"
     ]
    }
   ],
   "source": [
    "for i in range(x_test.shape[0]):\n",
    "    true_emojis = np.nonzero(y_test[i])\n",
    "    true_emojis_graphics = [emoji_list[k] for k in true_emojis[0].tolist()]\n",
    "    predicted_emoji = emoji_list[np.argmax(y_pred[i])]\n",
    "    predicted_proba = max(y_pred[i])\n",
    "    print(\"predicted ({0:.4f}):\".format(predicted_proba), predicted_emoji, '  true:', true_emojis_graphics )\n",
    "    print('\\n**************************\\n')\n",
    "    print()"
   ]
  },
  {
   "cell_type": "markdown",
   "metadata": {},
   "source": [
    "* On any sentence"
   ]
  },
  {
   "cell_type": "code",
   "execution_count": 170,
   "metadata": {
    "ExecuteTime": {
     "end_time": "2020-12-16T23:26:37.931289Z",
     "start_time": "2020-12-16T23:26:29.188496Z"
    }
   },
   "outputs": [],
   "source": [
    "tokenizer = CamembertTokenizer.from_pretrained('camembert-base')\n",
    "embedder = CamembertModel.from_pretrained('camembert-base')\n",
    "classifier = keras.models.load_model(\"/Users/Thomas/Downloads/emoji-predictor/model.h5\")"
   ]
  },
  {
   "cell_type": "code",
   "execution_count": 208,
   "metadata": {
    "ExecuteTime": {
     "end_time": "2020-12-17T00:44:08.621591Z",
     "start_time": "2020-12-17T00:44:03.336214Z"
    }
   },
   "outputs": [],
   "source": [
    "text = \"J'adore la musique de Jul\"\n",
    "token_ids = torch.tensor(tokenizer.encode(clean(text))).unsqueeze(0)\n",
    "embedding = embedder(token_ids)[0]\n",
    "cls_embedding = np.matrix(embedding.squeeze()[0].detach().numpy())\n",
    "pred = classifier.predict(cls_embedding)"
   ]
  },
  {
   "cell_type": "code",
   "execution_count": 210,
   "metadata": {
    "ExecuteTime": {
     "end_time": "2020-12-17T01:36:47.825990Z",
     "start_time": "2020-12-17T01:36:47.682842Z"
    }
   },
   "outputs": [
    {
     "name": "stdout",
     "output_type": "stream",
     "text": [
      "😭\n",
      "😅 😭 😂\n"
     ]
    }
   ],
   "source": [
    "with open('/Users/Thomas/Downloads/emoji-predictor/top100.txt') as f:\n",
    "    emoji_list = ast.literal_eval(f.read())\n",
    "\n",
    "top_emoji = emoji_list[np.argmax(pred)]\n",
    "top3_emojis = [emoji_list[k] for k in np.argpartition(pred[0], -3)[-3:].tolist()]\n",
    "\n",
    "print(top_emoji)\n",
    "print(' '.join(top3_emojis))"
   ]
  },
  {
   "cell_type": "code",
   "execution_count": 220,
   "metadata": {
    "ExecuteTime": {
     "end_time": "2020-12-17T14:55:42.075906Z",
     "start_time": "2020-12-17T14:55:42.019240Z"
    }
   },
   "outputs": [
    {
     "name": "stdout",
     "output_type": "stream",
     "text": [
      "😭\n",
      "👍 😭 😂\n"
     ]
    }
   ],
   "source": [
    "with open('/Users/Thomas/Downloads/emoji-predictor/top100.txt') as f:\n",
    "    emoji_list = ast.literal_eval(f.read())\n",
    "\n",
    "top_emoji = emoji_list[np.argmax(pred)]\n",
    "top3_emojis = [emoji_list[k] for k in np.argpartition(pred[0], -3)[-3:].tolist()]\n",
    "\n",
    "print(top_emoji)\n",
    "print(' '.join(top3_emojis))"
   ]
  },
  {
   "cell_type": "code",
   "execution_count": 225,
   "metadata": {
    "ExecuteTime": {
     "end_time": "2020-12-17T14:56:47.372776Z",
     "start_time": "2020-12-17T14:56:47.366781Z"
    }
   },
   "outputs": [
    {
     "name": "stdout",
     "output_type": "stream",
     "text": [
      "[0.04728341, 0.0711104, 0.061371326]\n"
     ]
    }
   ],
   "source": [
    "top_proba = max(pred[0])\n",
    "top3_proba = [pred[0][k] for k in np.argpartition(pred[0], -3)[-3:].tolist()]\n",
    "print(top3_proba)"
   ]
  },
  {
   "cell_type": "code",
   "execution_count": null,
   "metadata": {},
   "outputs": [],
   "source": []
  },
  {
   "cell_type": "code",
   "execution_count": null,
   "metadata": {},
   "outputs": [],
   "source": []
  },
  {
   "cell_type": "code",
   "execution_count": 226,
   "metadata": {
    "ExecuteTime": {
     "end_time": "2020-12-17T15:41:30.204334Z",
     "start_time": "2020-12-17T15:41:28.408842Z"
    }
   },
   "outputs": [],
   "source": [
    "mod = keras.models.load_model(\"/Users/Thomas/Downloads/final.h5\")"
   ]
  },
  {
   "cell_type": "code",
   "execution_count": 227,
   "metadata": {
    "ExecuteTime": {
     "end_time": "2020-12-17T15:41:31.365495Z",
     "start_time": "2020-12-17T15:41:31.336509Z"
    }
   },
   "outputs": [
    {
     "name": "stdout",
     "output_type": "stream",
     "text": [
      "Model: \"sequential\"\n",
      "_________________________________________________________________\n",
      "Layer (type)                 Output Shape              Param #   \n",
      "=================================================================\n",
      "batch_normalization (BatchNo (None, 768)               3072      \n",
      "_________________________________________________________________\n",
      "dropout (Dropout)            (None, 768)               0         \n",
      "_________________________________________________________________\n",
      "dense (Dense)                (None, 128)               98432     \n",
      "_________________________________________________________________\n",
      "batch_normalization_1 (Batch (None, 128)               512       \n",
      "_________________________________________________________________\n",
      "dropout_1 (Dropout)          (None, 128)               0         \n",
      "_________________________________________________________________\n",
      "dense_1 (Dense)              (None, 64)                8256      \n",
      "_________________________________________________________________\n",
      "batch_normalization_2 (Batch (None, 64)                256       \n",
      "_________________________________________________________________\n",
      "dropout_2 (Dropout)          (None, 64)                0         \n",
      "_________________________________________________________________\n",
      "dense_2 (Dense)              (None, 100)               6500      \n",
      "=================================================================\n",
      "Total params: 117,028\n",
      "Trainable params: 115,108\n",
      "Non-trainable params: 1,920\n",
      "_________________________________________________________________\n"
     ]
    }
   ],
   "source": [
    "mod.summary()"
   ]
  },
  {
   "cell_type": "code",
   "execution_count": null,
   "metadata": {},
   "outputs": [],
   "source": []
  }
 ],
 "metadata": {
  "hide_input": false,
  "kernelspec": {
   "display_name": "Python 3",
   "language": "python",
   "name": "python3"
  },
  "language_info": {
   "codemirror_mode": {
    "name": "ipython",
    "version": 3
   },
   "file_extension": ".py",
   "mimetype": "text/x-python",
   "name": "python",
   "nbconvert_exporter": "python",
   "pygments_lexer": "ipython3",
   "version": "3.7.9"
  },
  "toc": {
   "base_numbering": 1,
   "nav_menu": {},
   "number_sections": true,
   "sideBar": true,
   "skip_h1_title": false,
   "title_cell": "Table of Contents",
   "title_sidebar": "Contents",
   "toc_cell": false,
   "toc_position": {},
   "toc_section_display": true,
   "toc_window_display": true
  }
 },
 "nbformat": 4,
 "nbformat_minor": 4
}
